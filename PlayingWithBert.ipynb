{
  "nbformat": 4,
  "nbformat_minor": 0,
  "metadata": {
    "colab": {
      "provenance": [],
      "gpuType": "T4",
      "authorship_tag": "ABX9TyOWqEHC7WbPoDzVBwhi8kVs",
      "include_colab_link": true
    },
    "kernelspec": {
      "name": "python3",
      "display_name": "Python 3"
    },
    "language_info": {
      "name": "python"
    },
    "accelerator": "GPU"
  },
  "cells": [
    {
      "cell_type": "markdown",
      "metadata": {
        "id": "view-in-github",
        "colab_type": "text"
      },
      "source": [
        "<a href=\"https://colab.research.google.com/github/brettlaw0111/GoogleColab/blob/main/PlayingWithBert.ipynb\" target=\"_parent\"><img src=\"https://colab.research.google.com/assets/colab-badge.svg\" alt=\"Open In Colab\"/></a>"
      ]
    },
    {
      "cell_type": "code",
      "execution_count": 9,
      "metadata": {
        "colab": {
          "base_uri": "https://localhost:8080/"
        },
        "id": "D4LpkdUWMMbR",
        "outputId": "88560fda-f1ce-4ec5-aae3-fdf2f07a6c93"
      },
      "outputs": [
        {
          "output_type": "stream",
          "name": "stderr",
          "text": [
            "Some weights of the model checkpoint at dslim/bert-base-NER were not used when initializing BertForTokenClassification: ['bert.pooler.dense.bias', 'bert.pooler.dense.weight']\n",
            "- This IS expected if you are initializing BertForTokenClassification from the checkpoint of a model trained on another task or with another architecture (e.g. initializing a BertForSequenceClassification model from a BertForPreTraining model).\n",
            "- This IS NOT expected if you are initializing BertForTokenClassification from the checkpoint of a model that you expect to be exactly identical (initializing a BertForSequenceClassification model from a BertForSequenceClassification model).\n",
            "Device set to use cuda:0\n"
          ]
        },
        {
          "output_type": "stream",
          "name": "stdout",
          "text": [
            "[{'entity': 'B-ORG', 'score': np.float32(0.75252074), 'index': 6, 'word': 'McDonald', 'start': 16, 'end': 24}, {'entity': 'I-ORG', 'score': np.float32(0.92239946), 'index': 7, 'word': \"'\", 'start': 24, 'end': 25}, {'entity': 'I-ORG', 'score': np.float32(0.913566), 'index': 8, 'word': 's', 'start': 25, 'end': 26}]\n",
            "[{'entity': 'B-PER', 'score': np.float32(0.52894765), 'index': 28, 'word': 'Willy', 'start': 89, 'end': 94}]\n",
            "[{'entity': 'B-PER', 'score': np.float32(0.9791134), 'index': 19, 'word': 'God', 'start': 62, 'end': 65}]\n"
          ]
        }
      ],
      "source": [
        "from transformers import AutoTokenizer, AutoModelForTokenClassification\n",
        "from transformers import pipeline\n",
        "\n",
        "tokenizer = AutoTokenizer.from_pretrained(\"dslim/bert-base-NER\")\n",
        "model = AutoModelForTokenClassification.from_pretrained(\"dslim/bert-base-NER\")\n",
        "\n",
        "nlp = pipeline(\"ner\", model=model, tokenizer=tokenizer)\n",
        "example = \"I want to go to McDonald's.\"\n",
        "\n",
        "ner_results = nlp(example)\n",
        "print(ner_results)\n",
        "\n",
        "example2 = \"Yo mama so fat, she sat in the back of the bus and it did a wheelie. Also my name is Mr. Willy.\"\n",
        "\n",
        "ner_results = nlp(example2)\n",
        "print(ner_results)\n",
        "\n",
        "example3 = \"I'm gonna beat your ass so hard, you're gonna see the face of God.\"\n",
        "\n",
        "ner_results = nlp(example3)\n",
        "print(ner_results)\n",
        "#Recognizes named entities"
      ]
    },
    {
      "cell_type": "code",
      "source": [],
      "metadata": {
        "id": "o3tptJJtMq0C"
      },
      "execution_count": null,
      "outputs": []
    }
  ]
}