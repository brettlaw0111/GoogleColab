{
  "nbformat": 4,
  "nbformat_minor": 0,
  "metadata": {
    "colab": {
      "provenance": [],
      "authorship_tag": "ABX9TyMzQPDvYwAzEupuBFga4eHb",
      "include_colab_link": true
    },
    "kernelspec": {
      "name": "python3",
      "display_name": "Python 3"
    },
    "language_info": {
      "name": "python"
    }
  },
  "cells": [
    {
      "cell_type": "markdown",
      "metadata": {
        "id": "view-in-github",
        "colab_type": "text"
      },
      "source": [
        "<a href=\"https://colab.research.google.com/github/brettlaw0111/GoogleColab/blob/main/CNN.ipynb\" target=\"_parent\"><img src=\"https://colab.research.google.com/assets/colab-badge.svg\" alt=\"Open In Colab\"/></a>"
      ]
    },
    {
      "cell_type": "code",
      "execution_count": 105,
      "metadata": {
        "id": "bB2iwlvliSv8"
      },
      "outputs": [],
      "source": [
        "import torch\n",
        "import torch.nn as nn\n",
        "import torch.nn.functional as F\n",
        "from torch.utils.data import DataLoader\n",
        "from torchvision import datasets, transforms\n",
        "from torchvision.utils import make_grid\n",
        "\n",
        "import numpy as np\n",
        "import pandas as pd\n",
        "from sklearn.metrics import confusion_matrix\n",
        "import matplotlib.pyplot as plt\n",
        "%matplotlib inline"
      ]
    },
    {
      "cell_type": "code",
      "source": [
        "#We need to convert the MNIST images to tensors of 4 dimesnsions (# of images, height, width, color channel)\n",
        "transform = transforms.ToTensor()\n"
      ],
      "metadata": {
        "id": "4wbgETbhj1iy"
      },
      "execution_count": 106,
      "outputs": []
    },
    {
      "cell_type": "code",
      "source": [
        "#Train Data\n",
        "train_data = datasets.MNIST(root = '/cnn_data', train = True, download = True, transform = transform)\n"
      ],
      "metadata": {
        "id": "lOphdhh9knYc"
      },
      "execution_count": 107,
      "outputs": []
    },
    {
      "cell_type": "code",
      "source": [
        "#Test Data\n",
        "test_data = datasets.MNIST(root = '/cnn_data', train = False, download = True, transform = transform)\n"
      ],
      "metadata": {
        "id": "71FsXEWep1bf"
      },
      "execution_count": 108,
      "outputs": []
    },
    {
      "cell_type": "code",
      "source": [
        "train_data"
      ],
      "metadata": {
        "colab": {
          "base_uri": "https://localhost:8080/"
        },
        "id": "p07-2NwCqLv0",
        "outputId": "72664509-4cff-4658-fdef-37eb308a167d"
      },
      "execution_count": 109,
      "outputs": [
        {
          "output_type": "execute_result",
          "data": {
            "text/plain": [
              "Dataset MNIST\n",
              "    Number of datapoints: 60000\n",
              "    Root location: /cnn_data\n",
              "    Split: Train\n",
              "    StandardTransform\n",
              "Transform: ToTensor()"
            ]
          },
          "metadata": {},
          "execution_count": 109
        }
      ]
    },
    {
      "cell_type": "code",
      "source": [
        "test_data"
      ],
      "metadata": {
        "colab": {
          "base_uri": "https://localhost:8080/"
        },
        "id": "IjfPJxMyqOZ5",
        "outputId": "3e0d877a-dcbc-4d1e-942a-130df671e327"
      },
      "execution_count": 110,
      "outputs": [
        {
          "output_type": "execute_result",
          "data": {
            "text/plain": [
              "Dataset MNIST\n",
              "    Number of datapoints: 10000\n",
              "    Root location: /cnn_data\n",
              "    Split: Test\n",
              "    StandardTransform\n",
              "Transform: ToTensor()"
            ]
          },
          "metadata": {},
          "execution_count": 110
        }
      ]
    },
    {
      "cell_type": "code",
      "source": [
        "#Create a small batch size for images\n",
        "train_loader = DataLoader(train_data, batch_size = 10, shuffle = True)\n",
        "test_loader = DataLoader(test_data, batch_size = 10, shuffle = False)"
      ],
      "metadata": {
        "id": "xrcaLxyYq6OM"
      },
      "execution_count": 111,
      "outputs": []
    },
    {
      "cell_type": "code",
      "source": [
        "#Define the CNN model\n",
        "#2 Convolutional layers\n",
        "#Just an example for now\n",
        "conv1 = nn.Conv2d(1, 6, 3, 1)\n",
        "conv2 = nn.Conv2d(6, 16, 3, 1)"
      ],
      "metadata": {
        "id": "9pTp26MuqtZ3"
      },
      "execution_count": 112,
      "outputs": []
    },
    {
      "cell_type": "code",
      "source": [
        "for i, (X_train, y_train) in enumerate(train_data):\n",
        "  break"
      ],
      "metadata": {
        "id": "PpNRyOQ-7jUY"
      },
      "execution_count": 113,
      "outputs": []
    },
    {
      "cell_type": "code",
      "source": [
        "X_train.shape"
      ],
      "metadata": {
        "colab": {
          "base_uri": "https://localhost:8080/"
        },
        "id": "zpwNSpfP7rSz",
        "outputId": "3e0acfee-0603-42a3-f772-d1072a0591b1"
      },
      "execution_count": 114,
      "outputs": [
        {
          "output_type": "execute_result",
          "data": {
            "text/plain": [
              "torch.Size([1, 28, 28])"
            ]
          },
          "metadata": {},
          "execution_count": 114
        }
      ]
    },
    {
      "cell_type": "code",
      "source": [
        "x = X_train.view(1, 1, 28, 28)"
      ],
      "metadata": {
        "id": "A_3An6Pb7xuv"
      },
      "execution_count": 115,
      "outputs": []
    },
    {
      "cell_type": "code",
      "source": [
        "#Perform our first convolution\n",
        "x = F.relu(conv1(x)) #Rectified Linear Unit for our activation function"
      ],
      "metadata": {
        "id": "x2L8Yug178vf"
      },
      "execution_count": 116,
      "outputs": []
    },
    {
      "cell_type": "code",
      "source": [
        "#1 single image, 6 is the filters we asked for, 26x26\n",
        "x.shape"
      ],
      "metadata": {
        "colab": {
          "base_uri": "https://localhost:8080/"
        },
        "id": "nYdkSRGH8FT_",
        "outputId": "24c38af0-060d-423f-e1df-e1e7e056eebb"
      },
      "execution_count": 117,
      "outputs": [
        {
          "output_type": "execute_result",
          "data": {
            "text/plain": [
              "torch.Size([1, 6, 26, 26])"
            ]
          },
          "metadata": {},
          "execution_count": 117
        }
      ]
    },
    {
      "cell_type": "code",
      "source": [
        "#pass thru the pooling layer\n",
        "#the 2, 2 \"pools\" or shrinks the image\n",
        "x = F.max_pool2d(x, 2, 2) #kernel of 2 and stride of 2"
      ],
      "metadata": {
        "id": "0TL5dpMl8p1S"
      },
      "execution_count": 118,
      "outputs": []
    },
    {
      "cell_type": "code",
      "source": [
        "x.shape"
      ],
      "metadata": {
        "colab": {
          "base_uri": "https://localhost:8080/"
        },
        "id": "Xiw1pUT18XnV",
        "outputId": "db384184-4950-43ef-bf63-928fb13851a4"
      },
      "execution_count": 119,
      "outputs": [
        {
          "output_type": "execute_result",
          "data": {
            "text/plain": [
              "torch.Size([1, 6, 13, 13])"
            ]
          },
          "metadata": {},
          "execution_count": 119
        }
      ]
    },
    {
      "cell_type": "code",
      "source": [
        "#Second convolutional layer\n",
        "x = F.relu(conv2(x))"
      ],
      "metadata": {
        "id": "K5qjbz2H-E_Z"
      },
      "execution_count": 120,
      "outputs": []
    },
    {
      "cell_type": "code",
      "source": [
        "x.shape #We didn't set padding so we lose 2 pixels around the outside of the image"
      ],
      "metadata": {
        "colab": {
          "base_uri": "https://localhost:8080/"
        },
        "id": "PqiUw2qZ-Rkw",
        "outputId": "9928cbfc-657d-4c61-c99c-0a46a8dc9796"
      },
      "execution_count": 121,
      "outputs": [
        {
          "output_type": "execute_result",
          "data": {
            "text/plain": [
              "torch.Size([1, 16, 11, 11])"
            ]
          },
          "metadata": {},
          "execution_count": 121
        }
      ]
    },
    {
      "cell_type": "code",
      "source": [
        "#Second pooling layer\n",
        "x = F.max_pool2d(x, 2, 2)"
      ],
      "metadata": {
        "id": "PYpyLtMR-blN"
      },
      "execution_count": 122,
      "outputs": []
    },
    {
      "cell_type": "code",
      "source": [
        "#11/2 = 5.5. We round down because we would need to invent data to round up\n",
        "x.shape"
      ],
      "metadata": {
        "colab": {
          "base_uri": "https://localhost:8080/"
        },
        "id": "IWNoNNLd-gum",
        "outputId": "fcb2d46c-f72e-4f23-fb47-e6ee453f6594"
      },
      "execution_count": 123,
      "outputs": [
        {
          "output_type": "execute_result",
          "data": {
            "text/plain": [
              "torch.Size([1, 16, 5, 5])"
            ]
          },
          "metadata": {},
          "execution_count": 123
        }
      ]
    },
    {
      "cell_type": "code",
      "source": [
        "#Time for the model class\n",
        "class ConvolutionalNetwork(nn.Module):\n",
        "  def __init__(self):\n",
        "    super().__init__()\n",
        "    self.conv1 = nn.Conv2d(1,6,3,1)\n",
        "    self.conv2 = nn.Conv2d(6,16,3,1)\n",
        "    #Fully Connected Layer\n",
        "    #Flatten out to 120 neurons\n",
        "    self.fc1 = nn.Linear(5*5*16, 120)\n",
        "    self.fc2 = nn.Linear(120,84)\n",
        "    self.fc3 = nn.Linear(84,10)\n",
        "  #We need a forward function to push all the data through\n",
        "  def forward(self, X):\n",
        "    #Rectified Linear Unit\n",
        "    X = F.relu(self.conv1(X))\n",
        "    X = F.max_pool2d(X,2,2) #2x2 kernel, stride of 2\n",
        "    #Second pass\n",
        "    X = F.relu(self.conv2(X))\n",
        "    X = F.max_pool2d(X,2,2) #2x2 kernel, stride of 2\n",
        "\n",
        "    #Re-View to flatten it out\n",
        "    X = X.view(-1,16*5*5)#Negtive one to vary the batch size\n",
        "\n",
        "    #Fully COnnected Layers\n",
        "    X = F.relu(self.fc1(X))\n",
        "    X = F.relu(self.fc2(X))\n",
        "    #We don't need relu since it's the last layer\n",
        "    X = self.fc3(X)\n",
        "\n",
        "    #Return the output\n",
        "    return F.log_softmax(X,dim=1)#Define the dimensions"
      ],
      "metadata": {
        "id": "MylEBGqfXPad"
      },
      "execution_count": 124,
      "outputs": []
    },
    {
      "cell_type": "code",
      "source": [
        "#Create an instance of the Model\n",
        "torch.manual_seed(41)\n",
        "model = ConvolutionalNetwork()\n",
        "model"
      ],
      "metadata": {
        "colab": {
          "base_uri": "https://localhost:8080/"
        },
        "id": "L4I0VXMcbnTJ",
        "outputId": "f0171a9d-47c9-447e-8731-bbff7b157c3d"
      },
      "execution_count": 125,
      "outputs": [
        {
          "output_type": "execute_result",
          "data": {
            "text/plain": [
              "ConvolutionalNetwork(\n",
              "  (conv1): Conv2d(1, 6, kernel_size=(3, 3), stride=(1, 1))\n",
              "  (conv2): Conv2d(6, 16, kernel_size=(3, 3), stride=(1, 1))\n",
              "  (fc1): Linear(in_features=400, out_features=120, bias=True)\n",
              "  (fc2): Linear(in_features=120, out_features=84, bias=True)\n",
              "  (fc3): Linear(in_features=84, out_features=10, bias=True)\n",
              ")"
            ]
          },
          "metadata": {},
          "execution_count": 125
        }
      ]
    },
    {
      "cell_type": "code",
      "source": [
        "#Loss Function Optimizer\n",
        "criterion = nn.CrossEntropyLoss()\n",
        "optimizer = torch.optim.Adam(model.parameters(), lr=0.001)#Smaller LR, longer but better training\n"
      ],
      "metadata": {
        "id": "1g313jxOcD5r"
      },
      "execution_count": 126,
      "outputs": []
    },
    {
      "cell_type": "code",
      "source": [
        "X_train.type"
      ],
      "metadata": {
        "colab": {
          "base_uri": "https://localhost:8080/"
        },
        "id": "wQJBHLBUiYhY",
        "outputId": "e645226f-755f-40be-e778-1570142f21da"
      },
      "execution_count": 127,
      "outputs": [
        {
          "output_type": "execute_result",
          "data": {
            "text/plain": [
              "<function Tensor.type>"
            ]
          },
          "metadata": {},
          "execution_count": 127
        }
      ]
    },
    {
      "cell_type": "code",
      "source": [
        "#Letsa train\n",
        "#Keep track of the time it takes to trin\n",
        "import time\n",
        "start_time = time.time()\n",
        "\n",
        "#Create Variables to track\n",
        "epochs = 5\n",
        "train_losses = []\n",
        "test_losses = []\n",
        "train_correct = []\n",
        "test_correct = []\n",
        "\n",
        "#For loop of epochs\n",
        "for i in range(epochs):\n",
        "  trn_corr = 0\n",
        "  tst_corr = 0\n",
        "  #Train\n",
        "  #b is batch\n",
        "  for b,(X_train, y_train) in enumerate(train_loader):\n",
        "\n",
        "    b+=1 #Start batches at 1\n",
        "    y_pred = model(X_train) #Get predicted values from training set. Not flattened. It's 2d because our convolutional layer is looking for 2 dimensions\n",
        "    loss = criterion(y_pred, y_train) #Compare predictions to correct answers in y_train\n",
        "\n",
        "    predicted = torch.max(y_pred.data, 1)[1] #Add up the number of correct predictions, indexed off the first point\n",
        "    batch_corr = (predicted == y_train).sum() #How many did we get correct from this batch? True = 1, False = 0, sum up values\n",
        "    trn_corr += batch_corr #Keep track of total correct answers throughout training\n",
        "\n",
        "    #Update parameters\n",
        "\n",
        "    optimizer.zero_grad()\n",
        "    loss.backward()\n",
        "    optimizer.step()\n",
        "\n",
        "    #Print results\n",
        "\n",
        "    if b%600 == 0:\n",
        "      print(f'Epoch: {i}  Batch: {b}  Loss: {loss.item()}')\n",
        "  train_losses.append(loss)\n",
        "  train_correct.append(trn_corr)\n",
        "  #Test\n",
        "\n",
        "  with torch.no_grad(): #No gradient so we don't update our weights and biases with test data\n",
        "    for b,(X_test, y_test) in enumerate(test_loader):\n",
        "      y_val = model(X_test)\n",
        "      predicted = torch.max(y_val.data, 1)[1] #Add up correct predictions\n",
        "      tst_corr += (predicted == y_test).sum() #Same summation as above\n",
        "\n",
        "  loss = criterion(y_val, y_test)\n",
        "  test_losses.append(loss)\n",
        "  test_correct.append(tst_corr)\n",
        "\n",
        "current_time = time.time()\n",
        "total = current_time - start_time\n",
        "print(f'Training took: {total/60} minutes!')"
      ],
      "metadata": {
        "colab": {
          "base_uri": "https://localhost:8080/"
        },
        "id": "2aCD5pLEcuvf",
        "outputId": "bd71bbea-9d3b-46bd-a357-7377ad9801b0"
      },
      "execution_count": 129,
      "outputs": [
        {
          "output_type": "stream",
          "name": "stdout",
          "text": [
            "Epoch: 0  Batch: 600  Loss: 0.00036099221324548125\n",
            "Epoch: 0  Batch: 1200  Loss: 0.0001712304074317217\n",
            "Epoch: 0  Batch: 1800  Loss: 0.0005378525820560753\n",
            "Epoch: 0  Batch: 2400  Loss: 0.027378559112548828\n",
            "Epoch: 0  Batch: 3000  Loss: 0.0002596829435788095\n",
            "Epoch: 0  Batch: 3600  Loss: 8.657989383209497e-05\n",
            "Epoch: 0  Batch: 4200  Loss: 0.00040106248343363404\n",
            "Epoch: 0  Batch: 4800  Loss: 1.2349883036222309e-05\n",
            "Epoch: 0  Batch: 5400  Loss: 0.00046615247265435755\n",
            "Epoch: 0  Batch: 6000  Loss: 0.000162848416948691\n",
            "Epoch: 1  Batch: 600  Loss: 6.399912672350183e-05\n",
            "Epoch: 1  Batch: 1200  Loss: 0.0002539866545703262\n",
            "Epoch: 1  Batch: 1800  Loss: 0.0003175207821186632\n",
            "Epoch: 1  Batch: 2400  Loss: 8.683211490279064e-05\n",
            "Epoch: 1  Batch: 3000  Loss: 0.00015392867499031126\n",
            "Epoch: 1  Batch: 3600  Loss: 0.12387670576572418\n",
            "Epoch: 1  Batch: 4200  Loss: 0.00015394852380268276\n",
            "Epoch: 1  Batch: 4800  Loss: 0.00032526275026611984\n",
            "Epoch: 1  Batch: 5400  Loss: 0.08193918317556381\n",
            "Epoch: 1  Batch: 6000  Loss: 1.2692201137542725\n",
            "Epoch: 2  Batch: 600  Loss: 0.0010589142329990864\n",
            "Epoch: 2  Batch: 1200  Loss: 9.465120820095763e-05\n",
            "Epoch: 2  Batch: 1800  Loss: 0.10291097313165665\n",
            "Epoch: 2  Batch: 2400  Loss: 0.00014002497482579201\n",
            "Epoch: 2  Batch: 3000  Loss: 6.192003638716415e-05\n",
            "Epoch: 2  Batch: 3600  Loss: 0.0012006486067548394\n",
            "Epoch: 2  Batch: 4200  Loss: 6.576084706466645e-05\n",
            "Epoch: 2  Batch: 4800  Loss: 0.00023535157379228622\n",
            "Epoch: 2  Batch: 5400  Loss: 0.011907427571713924\n",
            "Epoch: 2  Batch: 6000  Loss: 0.008670629002153873\n",
            "Epoch: 3  Batch: 600  Loss: 7.259742233145516e-06\n",
            "Epoch: 3  Batch: 1200  Loss: 0.00014852435560896993\n",
            "Epoch: 3  Batch: 1800  Loss: 0.0007951410370878875\n",
            "Epoch: 3  Batch: 2400  Loss: 0.00021003276924602687\n",
            "Epoch: 3  Batch: 3000  Loss: 8.365988469449803e-05\n",
            "Epoch: 3  Batch: 3600  Loss: 0.0003493715194053948\n",
            "Epoch: 3  Batch: 4200  Loss: 0.0032437231857329607\n",
            "Epoch: 3  Batch: 4800  Loss: 3.01597424368083e-06\n",
            "Epoch: 3  Batch: 5400  Loss: 0.0008902125991880894\n",
            "Epoch: 3  Batch: 6000  Loss: 0.08935810625553131\n",
            "Epoch: 4  Batch: 600  Loss: 0.0008935973164625466\n",
            "Epoch: 4  Batch: 1200  Loss: 2.5033938300111913e-07\n",
            "Epoch: 4  Batch: 1800  Loss: 0.001272804569453001\n",
            "Epoch: 4  Batch: 2400  Loss: 0.0061934697441756725\n",
            "Epoch: 4  Batch: 3000  Loss: 4.768370942542788e-08\n",
            "Epoch: 4  Batch: 3600  Loss: 1.7285237845499068e-06\n",
            "Epoch: 4  Batch: 4200  Loss: 1.8917677152785473e-05\n",
            "Epoch: 4  Batch: 4800  Loss: 0.002446130383759737\n",
            "Epoch: 4  Batch: 5400  Loss: 5.125991719978629e-07\n",
            "Epoch: 4  Batch: 6000  Loss: 0.00029948551673442125\n",
            "Training took: 3.2685356974601745 minutes!\n"
          ]
        }
      ]
    },
    {
      "cell_type": "code",
      "source": [
        "#Let's graph\n",
        "train_losses = [tl.item() for tl in train_losses]\n",
        "plt.plot(train_losses, label = \"Training Loss\")\n",
        "plt.plot(test_losses, label = \"Validation Loss\")\n",
        "plt.title(\"Loss at Epoch\")\n",
        "plt.legend()"
      ],
      "metadata": {
        "colab": {
          "base_uri": "https://localhost:8080/",
          "height": 469
        },
        "id": "TE6XrTDsl7uO",
        "outputId": "0582eedc-9abb-417a-aafd-0fcf80ad0df6"
      },
      "execution_count": 131,
      "outputs": [
        {
          "output_type": "execute_result",
          "data": {
            "text/plain": [
              "<matplotlib.legend.Legend at 0x7d1f5e20d790>"
            ]
          },
          "metadata": {},
          "execution_count": 131
        },
        {
          "output_type": "display_data",
          "data": {
            "text/plain": [
              "<Figure size 640x480 with 1 Axes>"
            ],
            "image/png": "[encoded data removed]"
          },
          "metadata": {}
        }
      ]
    },
    {
      "cell_type": "code",
      "source": [
        "#graph the accuracy at the end of each epoch\n",
        "plt.plot([t/600 for t in train_correct], label = \"Training Accuracy\")\n",
        "plt.plot([t/100 for t in test_correct], label = \"Validation Accuracy\")\n",
        "plt.title(\"Accuracy at the end of each epoch\")\n",
        "plt.legend()"
      ],
      "metadata": {
        "colab": {
          "base_uri": "https://localhost:8080/",
          "height": 469
        },
        "id": "qKZs-c-0mmbo",
        "outputId": "105dc888-b115-48be-c40c-9215ce77add7"
      },
      "execution_count": 133,
      "outputs": [
        {
          "output_type": "execute_result",
          "data": {
            "text/plain": [
              "<matplotlib.legend.Legend at 0x7d1f5d4c8110>"
            ]
          },
          "metadata": {},
          "execution_count": 133
        },
        {
          "output_type": "display_data",
          "data": {
            "text/plain": [
              "<Figure size 640x480 with 1 Axes>"
            ],
            "image/png": "[encoded data removed]"
          },
          "metadata": {}
        }
      ]
    },
    {
      "cell_type": "code",
      "source": [
        "test_load_everything = DataLoader(test_data, batch_size = 10000, shuffle=False)"
      ],
      "metadata": {
        "id": "nbjCe7XcnUkJ"
      },
      "execution_count": 134,
      "outputs": []
    },
    {
      "cell_type": "code",
      "source": [
        "with torch.no_grad():\n",
        "  correct = 0\n",
        "  for X_test, y_test in test_load_everything:\n",
        "    y_val = model(X_test)\n",
        "    predicted = torch.max(y_val, 1)[1]\n",
        "    correct += (predicted == y_test).sum()"
      ],
      "metadata": {
        "id": "aTVqP6WonihZ"
      },
      "execution_count": 136,
      "outputs": []
    },
    {
      "cell_type": "code",
      "source": [
        "#Did for correct\n",
        "correct.item()/len(test_data)"
      ],
      "metadata": {
        "colab": {
          "base_uri": "https://localhost:8080/"
        },
        "id": "kVIpadPzn_Jm",
        "outputId": "6fea89d6-c2b5-4738-fa94-18e57e00be94"
      },
      "execution_count": 138,
      "outputs": [
        {
          "output_type": "execute_result",
          "data": {
            "text/plain": [
              "0.9902"
            ]
          },
          "metadata": {},
          "execution_count": 138
        }
      ]
    }
  ]
}